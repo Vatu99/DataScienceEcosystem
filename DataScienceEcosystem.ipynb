{
 "cells": [
  {
   "cell_type": "markdown",
   "id": "6aef0057-feb0-464d-9545-cc1a39ff898d",
   "metadata": {
    "tags": []
   },
   "source": [
    "# Data Science Tools and Ecosystem"
   ]
  },
  {
   "cell_type": "markdown",
   "id": "f07fe118-67fe-4fa2-be0c-4b273783d796",
   "metadata": {},
   "source": [
    "In this notebook, Data Science Tools and Ecosystem are summarized."
   ]
  },
  {
   "cell_type": "markdown",
   "id": "56663e21-08fb-4f2e-a0a1-cf6f39fbb8a4",
   "metadata": {},
   "source": [
    "**Objectives:**\n",
    "- Understand and explore various tools that Data Scientists works on\n",
    "- Undertand the similarities and differences between various Data Science languages like python, R, etc.\n",
    "- Undertand the commonly used libraries used by Data Scientists"
   ]
  },
  {
   "cell_type": "markdown",
   "id": "4f8613bc-0361-4c61-b901-31a230ad7ae0",
   "metadata": {},
   "source": [
    "Some of the popular languages that Data Scientists use are:\n",
    "1. python\n",
    "2. SQL\n",
    "3. R"
   ]
  },
  {
   "cell_type": "markdown",
   "id": "3f18b34b-a058-4407-bcb3-f56d86b57281",
   "metadata": {},
   "source": [
    "Some of the commonly used libraries used by Data Scientists include:\n",
    "1. Pandas\n",
    "2. SciPy\n",
    "3. Plotly\n",
    "4. NumPy\n",
    "5. TensorFlow"
   ]
  },
  {
   "cell_type": "markdown",
   "id": "74cc3092-d329-4e57-b2f6-44e477790d85",
   "metadata": {},
   "source": [
    "Data Science Tools |\n",
    "-------------------|\n",
    "TensorFlow |\n",
    "Apache Spark | \n",
    "Apache Storm |"
   ]
  },
  {
   "cell_type": "markdown",
   "id": "78a7f38e-15aa-45a1-b76a-121282636e76",
   "metadata": {},
   "source": [
    "### Below are a few examples of evaluating arithmetic expressions in Python"
   ]
  },
  {
   "cell_type": "code",
   "execution_count": 4,
   "id": "b1fb1afb-65a1-4b0a-9407-5d78f1af05ad",
   "metadata": {
    "tags": []
   },
   "outputs": [
    {
     "data": {
      "text/plain": [
       "17"
      ]
     },
     "execution_count": 4,
     "metadata": {},
     "output_type": "execute_result"
    }
   ],
   "source": [
    "# This a simple arithmetic expression to mutiply then add integers\n",
    "\n",
    "(3*4)+5"
   ]
  },
  {
   "cell_type": "code",
   "execution_count": 5,
   "id": "ee56d90c-ebaa-4003-beed-1b8b64a9fcee",
   "metadata": {
    "tags": []
   },
   "outputs": [
    {
     "name": "stdout",
     "output_type": "stream",
     "text": [
      "3.3333333333333335\n"
     ]
    }
   ],
   "source": [
    "# This will convert 200 minutes to hours by diving by 60\n",
    "\n",
    "min = 200\n",
    "hr = 200/60\n",
    "print(hr)"
   ]
  },
  {
   "cell_type": "markdown",
   "id": "5f1ad1ca-1b38-4085-9906-75e92ae20a63",
   "metadata": {},
   "source": [
    "## Author\n",
    "Vatsalya Dixit"
   ]
  }
 ],
 "metadata": {
  "kernelspec": {
   "display_name": "Python 3 (ipykernel)",
   "language": "python",
   "name": "python3"
  },
  "language_info": {
   "codemirror_mode": {
    "name": "ipython",
    "version": 3
   },
   "file_extension": ".py",
   "mimetype": "text/x-python",
   "name": "python",
   "nbconvert_exporter": "python",
   "pygments_lexer": "ipython3",
   "version": "3.11.5"
  }
 },
 "nbformat": 4,
 "nbformat_minor": 5
}
